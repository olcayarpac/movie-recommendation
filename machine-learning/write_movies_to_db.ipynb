{
 "cells": [
  {
   "cell_type": "code",
   "execution_count": 8,
   "id": "0a571f37",
   "metadata": {},
   "outputs": [],
   "source": [
    "import pandas as pd\n",
    "import pymongo\n",
    "import re\n"
   ]
  },
  {
   "cell_type": "code",
   "execution_count": 3,
   "id": "9d26b224",
   "metadata": {},
   "outputs": [],
   "source": [
    "dataset = pd.read_csv('moviesFinal.csv')"
   ]
  },
  {
   "cell_type": "code",
   "execution_count": 13,
   "id": "b276ec87",
   "metadata": {},
   "outputs": [
    {
     "data": {
      "text/html": [
       "<div>\n",
       "<style scoped>\n",
       "    .dataframe tbody tr th:only-of-type {\n",
       "        vertical-align: middle;\n",
       "    }\n",
       "\n",
       "    .dataframe tbody tr th {\n",
       "        vertical-align: top;\n",
       "    }\n",
       "\n",
       "    .dataframe thead th {\n",
       "        text-align: right;\n",
       "    }\n",
       "</style>\n",
       "<table border=\"1\" class=\"dataframe\">\n",
       "  <thead>\n",
       "    <tr style=\"text-align: right;\">\n",
       "      <th></th>\n",
       "      <th>imdb_title_id</th>\n",
       "      <th>title</th>\n",
       "      <th>year</th>\n",
       "      <th>genre</th>\n",
       "      <th>duration</th>\n",
       "      <th>country</th>\n",
       "      <th>language</th>\n",
       "      <th>director</th>\n",
       "      <th>writer</th>\n",
       "      <th>production_company</th>\n",
       "      <th>actors</th>\n",
       "      <th>description</th>\n",
       "      <th>avg_vote</th>\n",
       "      <th>budget</th>\n",
       "    </tr>\n",
       "  </thead>\n",
       "  <tbody>\n",
       "  </tbody>\n",
       "</table>\n",
       "</div>"
      ],
      "text/plain": [
       "Empty DataFrame\n",
       "Columns: [imdb_title_id, title, year, genre, duration, country, language, director, writer, production_company, actors, description, avg_vote, budget]\n",
       "Index: []"
      ]
     },
     "execution_count": 13,
     "metadata": {},
     "output_type": "execute_result"
    }
   ],
   "source": [
    "dataset.head(0)"
   ]
  },
  {
   "cell_type": "code",
   "execution_count": 46,
   "id": "baea8b57",
   "metadata": {},
   "outputs": [],
   "source": []
  },
  {
   "cell_type": "code",
   "execution_count": 74,
   "id": "6a2ca74c",
   "metadata": {
    "scrolled": false
   },
   "outputs": [
    {
     "data": {
      "text/plain": [
       "\"for i, row in dataset.iterrows():\\n    movieDict = {}\\n    movieDict['_id'] = int(re.findall(r'\\\\d+', row['imdb_title_id'])[0])\\n    movieDict['title'] = row['title']\\n    movieDict['year'] = row['year']\\n    movieDict['description'] = row['description']\\n    movieDict['actors'] = row['actors']\\n    movieDict['director'] = row['director']\\n    movieDict['imdb'] = row['avg_vote']\\n\\n    \\n    print(i)\\n    try:\\n        moviesCol.insert_one(movieDict)\\n    except:\\n        print('An error occured')\""
      ]
     },
     "execution_count": 74,
     "metadata": {},
     "output_type": "execute_result"
    }
   ],
   "source": [
    "'''for i, row in dataset.iterrows():\n",
    "    movieDict = {}\n",
    "    movieDict['_id'] = int(re.findall(r'\\d+', row['imdb_title_id'])[0])\n",
    "    movieDict['title'] = row['title']\n",
    "    movieDict['year'] = row['year']\n",
    "    movieDict['description'] = row['description']\n",
    "    movieDict['actors'] = row['actors']\n",
    "    movieDict['director'] = row['director']\n",
    "    movieDict['imdb'] = row['avg_vote']\n",
    "\n",
    "    \n",
    "    print(i)\n",
    "    try:\n",
    "        moviesCol.insert_one(movieDict)\n",
    "    except:\n",
    "        print('An error occured')'''"
   ]
  },
  {
   "cell_type": "code",
   "execution_count": 149,
   "id": "8e8c4cee",
   "metadata": {},
   "outputs": [],
   "source": [
    "def searchByTitle(title):\n",
    "    myclient = pymongo.MongoClient('mongodb://localhost:27017/')\n",
    "    mydb = myclient['moviedb']\n",
    "    moviesCol = mydb['movies']\n",
    "    cursor = moviesCol.find({'title' : {'$regex' : title, '$options' : 'i'}}, {'_id': 1, 'title': 1}).sort([('imdb', -1)]).limit(5)\n",
    "    for mm in cursor:\n",
    "        print(mm)\n",
    "    myclient.close()\n"
   ]
  },
  {
   "cell_type": "code",
   "execution_count": 150,
   "id": "4ae221eb",
   "metadata": {},
   "outputs": [
    {
     "name": "stdout",
     "output_type": "stream",
     "text": [
      "{'_id': 1375666, 'title': 'Inception'}\n",
      "{'_id': 2378281, 'title': 'No se aceptan devoluciones'}\n",
      "{'_id': 384793, 'title': 'Accepted'}\n",
      "{'_id': 800240, 'title': 'Deception'}\n",
      "{'_id': 457452, 'title': 'The Reception'}\n"
     ]
    }
   ],
   "source": [
    "searchByTitle('cep')"
   ]
  },
  {
   "cell_type": "code",
   "execution_count": null,
   "id": "da03b452",
   "metadata": {},
   "outputs": [],
   "source": []
  },
  {
   "cell_type": "code",
   "execution_count": 87,
   "id": "8012f485",
   "metadata": {},
   "outputs": [],
   "source": []
  },
  {
   "cell_type": "code",
   "execution_count": 143,
   "id": "f88d69ae",
   "metadata": {},
   "outputs": [],
   "source": [
    "def getImgUrl(ttid):\n",
    "    from bs4 import BeautifulSoup\n",
    "    import urllib.request as urllib\n",
    "\n",
    "    ttid = \"tt\" + str(ttid).zfill(7)\n",
    "    url = 'https://www.imdb.com/title/' + ttid\n",
    "    imdburl = urllib.urlopen(url)\n",
    "    soup = BeautifulSoup(imdburl)\n",
    "    li = soup.find('div', {'class': 'poster'})\n",
    "    childImg = li.findChild('img')\n",
    "    print(childImg['src'].split('V1_')[0] + 'V1_.jpg')"
   ]
  },
  {
   "cell_type": "code",
   "execution_count": 91,
   "id": "4ac8119f",
   "metadata": {},
   "outputs": [],
   "source": []
  },
  {
   "cell_type": "code",
   "execution_count": null,
   "id": "0b403d4e",
   "metadata": {},
   "outputs": [],
   "source": []
  },
  {
   "cell_type": "code",
   "execution_count": null,
   "id": "c00ff0a5",
   "metadata": {},
   "outputs": [],
   "source": []
  },
  {
   "cell_type": "code",
   "execution_count": null,
   "id": "bd992590",
   "metadata": {},
   "outputs": [],
   "source": []
  },
  {
   "cell_type": "code",
   "execution_count": null,
   "id": "530babd9",
   "metadata": {},
   "outputs": [],
   "source": []
  },
  {
   "cell_type": "code",
   "execution_count": null,
   "id": "d107d2b6",
   "metadata": {},
   "outputs": [],
   "source": []
  }
 ],
 "metadata": {
  "kernelspec": {
   "display_name": "Python 3",
   "language": "python",
   "name": "python3"
  },
  "language_info": {
   "codemirror_mode": {
    "name": "ipython",
    "version": 3
   },
   "file_extension": ".py",
   "mimetype": "text/x-python",
   "name": "python",
   "nbconvert_exporter": "python",
   "pygments_lexer": "ipython3",
   "version": "3.9.2"
  }
 },
 "nbformat": 4,
 "nbformat_minor": 5
}
